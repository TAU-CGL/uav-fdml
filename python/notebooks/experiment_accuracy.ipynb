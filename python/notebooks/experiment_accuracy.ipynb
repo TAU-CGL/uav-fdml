{
 "cells": [
  {
   "cell_type": "code",
   "execution_count": 5,
   "metadata": {},
   "outputs": [],
   "source": [
    "import sqlite3\n",
    "\n",
    "import numpy as np \n",
    "import pandas as pd\n",
    "import matplotlib.pyplot as plt"
   ]
  },
  {
   "cell_type": "code",
   "execution_count": 6,
   "metadata": {},
   "outputs": [],
   "source": [
    "conn = sqlite3.connect(\"../../results/results.db\")\n",
    "df = pd.read_sql(\"SELECT * FROM results\", conn)"
   ]
  },
  {
   "cell_type": "code",
   "execution_count": 7,
   "metadata": {},
   "outputs": [],
   "source": [
    "df = df.dropna()"
   ]
  },
  {
   "cell_type": "code",
   "execution_count": 8,
   "metadata": {},
   "outputs": [],
   "source": [
    "df[\"success\"] = (df[\"nearestDistance\"] <= 0.2) & (df[\"nearestDistance\"] >= 0.0)"
   ]
  },
  {
   "cell_type": "code",
   "execution_count": 9,
   "metadata": {},
   "outputs": [
    {
     "data": {
      "text/html": [
       "<div>\n",
       "<style scoped>\n",
       "    .dataframe tbody tr th:only-of-type {\n",
       "        vertical-align: middle;\n",
       "    }\n",
       "\n",
       "    .dataframe tbody tr th {\n",
       "        vertical-align: top;\n",
       "    }\n",
       "\n",
       "    .dataframe thead th {\n",
       "        text-align: right;\n",
       "    }\n",
       "</style>\n",
       "<table border=\"1\" class=\"dataframe\">\n",
       "  <thead>\n",
       "    <tr style=\"text-align: right;\">\n",
       "      <th></th>\n",
       "      <th>duration</th>\n",
       "      <th>epsilon</th>\n",
       "      <th>nearestDistance</th>\n",
       "      <th>nearestOrientation</th>\n",
       "      <th>numLocations</th>\n",
       "      <th>success</th>\n",
       "    </tr>\n",
       "  </thead>\n",
       "  <tbody>\n",
       "    <tr>\n",
       "      <th>2702</th>\n",
       "      <td>0.024210</td>\n",
       "      <td>0.015</td>\n",
       "      <td>0.179447</td>\n",
       "      <td>1.659767</td>\n",
       "      <td>6</td>\n",
       "      <td>True</td>\n",
       "    </tr>\n",
       "    <tr>\n",
       "      <th>2703</th>\n",
       "      <td>0.025027</td>\n",
       "      <td>0.015</td>\n",
       "      <td>0.119026</td>\n",
       "      <td>1.604544</td>\n",
       "      <td>6</td>\n",
       "      <td>True</td>\n",
       "    </tr>\n",
       "    <tr>\n",
       "      <th>2704</th>\n",
       "      <td>0.025356</td>\n",
       "      <td>0.015</td>\n",
       "      <td>0.115845</td>\n",
       "      <td>1.389787</td>\n",
       "      <td>6</td>\n",
       "      <td>True</td>\n",
       "    </tr>\n",
       "    <tr>\n",
       "      <th>2705</th>\n",
       "      <td>0.025896</td>\n",
       "      <td>0.015</td>\n",
       "      <td>0.208671</td>\n",
       "      <td>1.647495</td>\n",
       "      <td>6</td>\n",
       "      <td>False</td>\n",
       "    </tr>\n",
       "    <tr>\n",
       "      <th>2706</th>\n",
       "      <td>0.027088</td>\n",
       "      <td>0.015</td>\n",
       "      <td>0.125870</td>\n",
       "      <td>1.561592</td>\n",
       "      <td>6</td>\n",
       "      <td>True</td>\n",
       "    </tr>\n",
       "    <tr>\n",
       "      <th>...</th>\n",
       "      <td>...</td>\n",
       "      <td>...</td>\n",
       "      <td>...</td>\n",
       "      <td>...</td>\n",
       "      <td>...</td>\n",
       "      <td>...</td>\n",
       "    </tr>\n",
       "    <tr>\n",
       "      <th>3697</th>\n",
       "      <td>0.053371</td>\n",
       "      <td>0.015</td>\n",
       "      <td>0.076836</td>\n",
       "      <td>2.886952</td>\n",
       "      <td>6</td>\n",
       "      <td>True</td>\n",
       "    </tr>\n",
       "    <tr>\n",
       "      <th>3698</th>\n",
       "      <td>0.052771</td>\n",
       "      <td>0.015</td>\n",
       "      <td>0.171977</td>\n",
       "      <td>3.328738</td>\n",
       "      <td>6</td>\n",
       "      <td>True</td>\n",
       "    </tr>\n",
       "    <tr>\n",
       "      <th>3699</th>\n",
       "      <td>0.050931</td>\n",
       "      <td>0.015</td>\n",
       "      <td>0.151284</td>\n",
       "      <td>3.365554</td>\n",
       "      <td>6</td>\n",
       "      <td>True</td>\n",
       "    </tr>\n",
       "    <tr>\n",
       "      <th>3700</th>\n",
       "      <td>0.055416</td>\n",
       "      <td>0.015</td>\n",
       "      <td>0.080218</td>\n",
       "      <td>2.886952</td>\n",
       "      <td>6</td>\n",
       "      <td>True</td>\n",
       "    </tr>\n",
       "    <tr>\n",
       "      <th>3701</th>\n",
       "      <td>0.057068</td>\n",
       "      <td>0.015</td>\n",
       "      <td>0.148010</td>\n",
       "      <td>2.874680</td>\n",
       "      <td>6</td>\n",
       "      <td>True</td>\n",
       "    </tr>\n",
       "  </tbody>\n",
       "</table>\n",
       "<p>1000 rows × 6 columns</p>\n",
       "</div>"
      ],
      "text/plain": [
       "      duration  epsilon  nearestDistance  nearestOrientation  numLocations  \\\n",
       "2702  0.024210    0.015         0.179447            1.659767             6   \n",
       "2703  0.025027    0.015         0.119026            1.604544             6   \n",
       "2704  0.025356    0.015         0.115845            1.389787             6   \n",
       "2705  0.025896    0.015         0.208671            1.647495             6   \n",
       "2706  0.027088    0.015         0.125870            1.561592             6   \n",
       "...        ...      ...              ...                 ...           ...   \n",
       "3697  0.053371    0.015         0.076836            2.886952             6   \n",
       "3698  0.052771    0.015         0.171977            3.328738             6   \n",
       "3699  0.050931    0.015         0.151284            3.365554             6   \n",
       "3700  0.055416    0.015         0.080218            2.886952             6   \n",
       "3701  0.057068    0.015         0.148010            2.874680             6   \n",
       "\n",
       "      success  \n",
       "2702     True  \n",
       "2703     True  \n",
       "2704     True  \n",
       "2705    False  \n",
       "2706     True  \n",
       "...       ...  \n",
       "3697     True  \n",
       "3698     True  \n",
       "3699     True  \n",
       "3700     True  \n",
       "3701     True  \n",
       "\n",
       "[1000 rows x 6 columns]"
      ]
     },
     "execution_count": 9,
     "metadata": {},
     "output_type": "execute_result"
    }
   ],
   "source": [
    "df.tail(1000)"
   ]
  },
  {
   "cell_type": "code",
   "execution_count": 10,
   "metadata": {},
   "outputs": [],
   "source": [
    "gdf = df.groupby(\"epsilon\")"
   ]
  },
  {
   "cell_type": "code",
   "execution_count": 11,
   "metadata": {},
   "outputs": [
    {
     "data": {
      "text/plain": [
       "epsilon\n",
       "0.005    0.354133\n",
       "0.010    0.672609\n",
       "0.015    0.701783\n",
       "Name: success, dtype: float64"
      ]
     },
     "execution_count": 11,
     "metadata": {},
     "output_type": "execute_result"
    }
   ],
   "source": [
    "gdf[\"success\"].mean()"
   ]
  },
  {
   "cell_type": "code",
   "execution_count": 12,
   "metadata": {},
   "outputs": [
    {
     "data": {
      "text/plain": [
       "epsilon\n",
       "0.005    0.106380\n",
       "0.010    0.113746\n",
       "0.015    0.113317\n",
       "Name: nearestDistance, dtype: float64"
      ]
     },
     "execution_count": 12,
     "metadata": {},
     "output_type": "execute_result"
    }
   ],
   "source": [
    "# Aggregate by mean of nearestDistance, only for successful runs\n",
    "\n",
    "df_ = df[df[\"success\"]]\n",
    "gdf_ = df_.groupby(\"epsilon\")\n",
    "gdf_[\"nearestDistance\"].mean()\n"
   ]
  },
  {
   "cell_type": "code",
   "execution_count": 13,
   "metadata": {},
   "outputs": [
    {
     "data": {
      "text/plain": [
       "epsilon\n",
       "0.005    0.005357\n",
       "0.010    0.011948\n",
       "0.015    0.032939\n",
       "Name: duration, dtype: float64"
      ]
     },
     "execution_count": 13,
     "metadata": {},
     "output_type": "execute_result"
    }
   ],
   "source": [
    "gdf[\"duration\"].mean()"
   ]
  },
  {
   "cell_type": "code",
   "execution_count": null,
   "metadata": {},
   "outputs": [],
   "source": []
  },
  {
   "cell_type": "code",
   "execution_count": 14,
   "metadata": {},
   "outputs": [
    {
     "data": {
      "text/plain": [
       "epsilon\n",
       "0.005    2.970016\n",
       "0.010    4.803079\n",
       "0.015    5.713128\n",
       "Name: numLocations, dtype: float64"
      ]
     },
     "execution_count": 14,
     "metadata": {},
     "output_type": "execute_result"
    }
   ],
   "source": [
    "gdf[\"numLocations\"].mean()"
   ]
  },
  {
   "cell_type": "code",
   "execution_count": null,
   "metadata": {},
   "outputs": [],
   "source": []
  },
  {
   "cell_type": "code",
   "execution_count": null,
   "metadata": {},
   "outputs": [],
   "source": []
  }
 ],
 "metadata": {
  "kernelspec": {
   "display_name": "Python 3",
   "language": "python",
   "name": "python3"
  },
  "language_info": {
   "codemirror_mode": {
    "name": "ipython",
    "version": 3
   },
   "file_extension": ".py",
   "mimetype": "text/x-python",
   "name": "python",
   "nbconvert_exporter": "python",
   "pygments_lexer": "ipython3",
   "version": "3.10.8"
  }
 },
 "nbformat": 4,
 "nbformat_minor": 2
}
