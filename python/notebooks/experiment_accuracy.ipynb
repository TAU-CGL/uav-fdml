{
 "cells": [
  {
   "cell_type": "code",
   "execution_count": 32,
   "metadata": {},
   "outputs": [],
   "source": [
    "import sqlite3\n",
    "\n",
    "import numpy as np \n",
    "import pandas as pd\n",
    "import matplotlib.pyplot as plt"
   ]
  },
  {
   "cell_type": "code",
   "execution_count": 33,
   "metadata": {},
   "outputs": [],
   "source": [
    "# DB_NAME = \"results_mr_lh_446a_m1.db\"\n",
    "DB_NAME = \"results_mr_lh_363_m1.db\"\n",
    "\n",
    "conn = sqlite3.connect(f\"../../results/{DB_NAME}\")\n",
    "df = pd.read_sql(\"SELECT * FROM results\", conn)"
   ]
  },
  {
   "cell_type": "code",
   "execution_count": 34,
   "metadata": {},
   "outputs": [],
   "source": [
    "df = df.dropna()"
   ]
  },
  {
   "cell_type": "code",
   "execution_count": 35,
   "metadata": {},
   "outputs": [],
   "source": [
    "df[\"success\"] = (df[\"nearestDistance\"] <= 0.2) & (df[\"nearestDistance\"] >= 0.0)"
   ]
  },
  {
   "cell_type": "code",
   "execution_count": 36,
   "metadata": {},
   "outputs": [
    {
     "data": {
      "text/html": [
       "<div>\n",
       "<style scoped>\n",
       "    .dataframe tbody tr th:only-of-type {\n",
       "        vertical-align: middle;\n",
       "    }\n",
       "\n",
       "    .dataframe tbody tr th {\n",
       "        vertical-align: top;\n",
       "    }\n",
       "\n",
       "    .dataframe thead th {\n",
       "        text-align: right;\n",
       "    }\n",
       "</style>\n",
       "<table border=\"1\" class=\"dataframe\">\n",
       "  <thead>\n",
       "    <tr style=\"text-align: right;\">\n",
       "      <th></th>\n",
       "      <th>duration</th>\n",
       "      <th>epsilon</th>\n",
       "      <th>nearestDistance</th>\n",
       "      <th>nearestOrientation</th>\n",
       "      <th>numLocations</th>\n",
       "      <th>success</th>\n",
       "    </tr>\n",
       "  </thead>\n",
       "  <tbody>\n",
       "    <tr>\n",
       "      <th>9620</th>\n",
       "      <td>3.525112</td>\n",
       "      <td>0.05</td>\n",
       "      <td>0.028369</td>\n",
       "      <td>0.052155</td>\n",
       "      <td>6</td>\n",
       "      <td>True</td>\n",
       "    </tr>\n",
       "    <tr>\n",
       "      <th>9621</th>\n",
       "      <td>3.482777</td>\n",
       "      <td>0.05</td>\n",
       "      <td>0.046117</td>\n",
       "      <td>0.113515</td>\n",
       "      <td>5</td>\n",
       "      <td>True</td>\n",
       "    </tr>\n",
       "    <tr>\n",
       "      <th>9622</th>\n",
       "      <td>3.623039</td>\n",
       "      <td>0.05</td>\n",
       "      <td>0.073080</td>\n",
       "      <td>0.113515</td>\n",
       "      <td>5</td>\n",
       "      <td>True</td>\n",
       "    </tr>\n",
       "    <tr>\n",
       "      <th>9623</th>\n",
       "      <td>3.037404</td>\n",
       "      <td>0.05</td>\n",
       "      <td>0.080542</td>\n",
       "      <td>0.101243</td>\n",
       "      <td>5</td>\n",
       "      <td>True</td>\n",
       "    </tr>\n",
       "    <tr>\n",
       "      <th>9624</th>\n",
       "      <td>3.245149</td>\n",
       "      <td>0.05</td>\n",
       "      <td>0.102278</td>\n",
       "      <td>0.113515</td>\n",
       "      <td>6</td>\n",
       "      <td>True</td>\n",
       "    </tr>\n",
       "    <tr>\n",
       "      <th>...</th>\n",
       "      <td>...</td>\n",
       "      <td>...</td>\n",
       "      <td>...</td>\n",
       "      <td>...</td>\n",
       "      <td>...</td>\n",
       "      <td>...</td>\n",
       "    </tr>\n",
       "    <tr>\n",
       "      <th>10615</th>\n",
       "      <td>2.885544</td>\n",
       "      <td>0.05</td>\n",
       "      <td>0.110323</td>\n",
       "      <td>1.561592</td>\n",
       "      <td>8</td>\n",
       "      <td>True</td>\n",
       "    </tr>\n",
       "    <tr>\n",
       "      <th>10616</th>\n",
       "      <td>2.948667</td>\n",
       "      <td>0.05</td>\n",
       "      <td>0.115667</td>\n",
       "      <td>1.782486</td>\n",
       "      <td>7</td>\n",
       "      <td>True</td>\n",
       "    </tr>\n",
       "    <tr>\n",
       "      <th>10617</th>\n",
       "      <td>3.502295</td>\n",
       "      <td>0.05</td>\n",
       "      <td>0.162945</td>\n",
       "      <td>1.573864</td>\n",
       "      <td>7</td>\n",
       "      <td>True</td>\n",
       "    </tr>\n",
       "    <tr>\n",
       "      <th>10618</th>\n",
       "      <td>4.213181</td>\n",
       "      <td>0.05</td>\n",
       "      <td>0.133379</td>\n",
       "      <td>1.942020</td>\n",
       "      <td>7</td>\n",
       "      <td>True</td>\n",
       "    </tr>\n",
       "    <tr>\n",
       "      <th>10619</th>\n",
       "      <td>3.413683</td>\n",
       "      <td>0.05</td>\n",
       "      <td>0.126013</td>\n",
       "      <td>1.819301</td>\n",
       "      <td>7</td>\n",
       "      <td>True</td>\n",
       "    </tr>\n",
       "  </tbody>\n",
       "</table>\n",
       "<p>1000 rows × 6 columns</p>\n",
       "</div>"
      ],
      "text/plain": [
       "       duration  epsilon  nearestDistance  nearestOrientation  numLocations  \\\n",
       "9620   3.525112     0.05         0.028369            0.052155             6   \n",
       "9621   3.482777     0.05         0.046117            0.113515             5   \n",
       "9622   3.623039     0.05         0.073080            0.113515             5   \n",
       "9623   3.037404     0.05         0.080542            0.101243             5   \n",
       "9624   3.245149     0.05         0.102278            0.113515             6   \n",
       "...         ...      ...              ...                 ...           ...   \n",
       "10615  2.885544     0.05         0.110323            1.561592             8   \n",
       "10616  2.948667     0.05         0.115667            1.782486             7   \n",
       "10617  3.502295     0.05         0.162945            1.573864             7   \n",
       "10618  4.213181     0.05         0.133379            1.942020             7   \n",
       "10619  3.413683     0.05         0.126013            1.819301             7   \n",
       "\n",
       "       success  \n",
       "9620      True  \n",
       "9621      True  \n",
       "9622      True  \n",
       "9623      True  \n",
       "9624      True  \n",
       "...        ...  \n",
       "10615     True  \n",
       "10616     True  \n",
       "10617     True  \n",
       "10618     True  \n",
       "10619     True  \n",
       "\n",
       "[1000 rows x 6 columns]"
      ]
     },
     "execution_count": 36,
     "metadata": {},
     "output_type": "execute_result"
    }
   ],
   "source": [
    "df.tail(1000)"
   ]
  },
  {
   "cell_type": "code",
   "execution_count": 37,
   "metadata": {},
   "outputs": [],
   "source": [
    "gdf = df.groupby(\"epsilon\")"
   ]
  },
  {
   "cell_type": "code",
   "execution_count": 38,
   "metadata": {},
   "outputs": [
    {
     "data": {
      "text/plain": [
       "epsilon\n",
       "0.005    0.740678\n",
       "0.010    0.916949\n",
       "0.020    0.920904\n",
       "0.030    0.919209\n",
       "0.040    0.912429\n",
       "0.050    0.893220\n",
       "Name: success, dtype: float64"
      ]
     },
     "execution_count": 38,
     "metadata": {},
     "output_type": "execute_result"
    }
   ],
   "source": [
    "gdf[\"success\"].mean()"
   ]
  },
  {
   "cell_type": "code",
   "execution_count": 39,
   "metadata": {},
   "outputs": [
    {
     "data": {
      "text/plain": [
       "epsilon\n",
       "0.005    0.083613\n",
       "0.010    0.082010\n",
       "0.020    0.091750\n",
       "0.030    0.097123\n",
       "0.040    0.102243\n",
       "0.050    0.105879\n",
       "Name: nearestDistance, dtype: float64"
      ]
     },
     "execution_count": 39,
     "metadata": {},
     "output_type": "execute_result"
    }
   ],
   "source": [
    "# Aggregate by mean of nearestDistance, only for successful runs\n",
    "\n",
    "df_ = df[df[\"success\"]]\n",
    "gdf_ = df_.groupby(\"epsilon\")\n",
    "gdf_[\"nearestDistance\"].mean()\n"
   ]
  },
  {
   "cell_type": "code",
   "execution_count": 40,
   "metadata": {},
   "outputs": [
    {
     "data": {
      "text/plain": [
       "epsilon\n",
       "0.005    0.003778\n",
       "0.010    0.009419\n",
       "0.020    0.085788\n",
       "0.030    0.399188\n",
       "0.040    1.172840\n",
       "0.050    2.607959\n",
       "Name: duration, dtype: float64"
      ]
     },
     "execution_count": 40,
     "metadata": {},
     "output_type": "execute_result"
    }
   ],
   "source": [
    "gdf[\"duration\"].mean()"
   ]
  },
  {
   "cell_type": "code",
   "execution_count": 41,
   "metadata": {},
   "outputs": [
    {
     "data": {
      "text/plain": [
       "epsilon\n",
       "0.005    2.305085\n",
       "0.010    3.951412\n",
       "0.020    4.686441\n",
       "0.030    5.312994\n",
       "0.040    5.874576\n",
       "0.050    6.324294\n",
       "Name: numLocations, dtype: float64"
      ]
     },
     "execution_count": 41,
     "metadata": {},
     "output_type": "execute_result"
    }
   ],
   "source": [
    "gdf[\"numLocations\"].mean()"
   ]
  },
  {
   "cell_type": "code",
   "execution_count": null,
   "metadata": {},
   "outputs": [],
   "source": []
  },
  {
   "cell_type": "code",
   "execution_count": null,
   "metadata": {},
   "outputs": [],
   "source": []
  }
 ],
 "metadata": {
  "kernelspec": {
   "display_name": "Python 3",
   "language": "python",
   "name": "python3"
  },
  "language_info": {
   "codemirror_mode": {
    "name": "ipython",
    "version": 3
   },
   "file_extension": ".py",
   "mimetype": "text/x-python",
   "name": "python",
   "nbconvert_exporter": "python",
   "pygments_lexer": "ipython3",
   "version": "3.10.8"
  }
 },
 "nbformat": 4,
 "nbformat_minor": 2
}
