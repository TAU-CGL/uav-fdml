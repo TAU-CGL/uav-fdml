{
 "cells": [
  {
   "cell_type": "code",
   "execution_count": 2,
   "metadata": {},
   "outputs": [],
   "source": [
    "import sqlite3\n",
    "\n",
    "import numpy as np \n",
    "import pandas as pd\n",
    "import matplotlib.pyplot as plt"
   ]
  },
  {
   "cell_type": "code",
   "execution_count": 3,
   "metadata": {},
   "outputs": [],
   "source": [
    "DB_NAME = \"results_mr_lh_446a_m1.db\"\n",
    "\n",
    "conn = sqlite3.connect(f\"../../results/{DB_NAME}\")\n",
    "df = pd.read_sql(\"SELECT * FROM results\", conn)"
   ]
  },
  {
   "cell_type": "code",
   "execution_count": 4,
   "metadata": {},
   "outputs": [],
   "source": [
    "df = df.dropna()"
   ]
  },
  {
   "cell_type": "code",
   "execution_count": 16,
   "metadata": {},
   "outputs": [],
   "source": [
    "df[\"success\"] = (df[\"nearestDistance\"] <= 0.2) & (df[\"nearestDistance\"] >= 0.0)"
   ]
  },
  {
   "cell_type": "code",
   "execution_count": 17,
   "metadata": {},
   "outputs": [
    {
     "data": {
      "text/html": [
       "<div>\n",
       "<style scoped>\n",
       "    .dataframe tbody tr th:only-of-type {\n",
       "        vertical-align: middle;\n",
       "    }\n",
       "\n",
       "    .dataframe tbody tr th {\n",
       "        vertical-align: top;\n",
       "    }\n",
       "\n",
       "    .dataframe thead th {\n",
       "        text-align: right;\n",
       "    }\n",
       "</style>\n",
       "<table border=\"1\" class=\"dataframe\">\n",
       "  <thead>\n",
       "    <tr style=\"text-align: right;\">\n",
       "      <th></th>\n",
       "      <th>duration</th>\n",
       "      <th>epsilon</th>\n",
       "      <th>nearestDistance</th>\n",
       "      <th>nearestOrientation</th>\n",
       "      <th>numLocations</th>\n",
       "      <th>success</th>\n",
       "    </tr>\n",
       "  </thead>\n",
       "  <tbody>\n",
       "    <tr>\n",
       "      <th>6404</th>\n",
       "      <td>2.394024</td>\n",
       "      <td>0.05</td>\n",
       "      <td>0.213642</td>\n",
       "      <td>1.573864</td>\n",
       "      <td>10</td>\n",
       "      <td>False</td>\n",
       "    </tr>\n",
       "    <tr>\n",
       "      <th>6405</th>\n",
       "      <td>1.940717</td>\n",
       "      <td>0.05</td>\n",
       "      <td>0.235212</td>\n",
       "      <td>1.647495</td>\n",
       "      <td>9</td>\n",
       "      <td>False</td>\n",
       "    </tr>\n",
       "    <tr>\n",
       "      <th>6406</th>\n",
       "      <td>2.042513</td>\n",
       "      <td>0.05</td>\n",
       "      <td>0.083272</td>\n",
       "      <td>1.451146</td>\n",
       "      <td>9</td>\n",
       "      <td>True</td>\n",
       "    </tr>\n",
       "    <tr>\n",
       "      <th>6407</th>\n",
       "      <td>2.307400</td>\n",
       "      <td>0.05</td>\n",
       "      <td>0.162503</td>\n",
       "      <td>1.573864</td>\n",
       "      <td>11</td>\n",
       "      <td>True</td>\n",
       "    </tr>\n",
       "    <tr>\n",
       "      <th>6408</th>\n",
       "      <td>2.368114</td>\n",
       "      <td>0.05</td>\n",
       "      <td>0.247662</td>\n",
       "      <td>1.279340</td>\n",
       "      <td>10</td>\n",
       "      <td>False</td>\n",
       "    </tr>\n",
       "    <tr>\n",
       "      <th>...</th>\n",
       "      <td>...</td>\n",
       "      <td>...</td>\n",
       "      <td>...</td>\n",
       "      <td>...</td>\n",
       "      <td>...</td>\n",
       "      <td>...</td>\n",
       "    </tr>\n",
       "    <tr>\n",
       "      <th>7399</th>\n",
       "      <td>3.817997</td>\n",
       "      <td>0.05</td>\n",
       "      <td>0.162031</td>\n",
       "      <td>3.402369</td>\n",
       "      <td>9</td>\n",
       "      <td>True</td>\n",
       "    </tr>\n",
       "    <tr>\n",
       "      <th>7400</th>\n",
       "      <td>3.240618</td>\n",
       "      <td>0.05</td>\n",
       "      <td>0.123558</td>\n",
       "      <td>3.316466</td>\n",
       "      <td>10</td>\n",
       "      <td>True</td>\n",
       "    </tr>\n",
       "    <tr>\n",
       "      <th>7401</th>\n",
       "      <td>3.271571</td>\n",
       "      <td>0.05</td>\n",
       "      <td>0.138710</td>\n",
       "      <td>3.255107</td>\n",
       "      <td>9</td>\n",
       "      <td>True</td>\n",
       "    </tr>\n",
       "    <tr>\n",
       "      <th>7402</th>\n",
       "      <td>3.030342</td>\n",
       "      <td>0.05</td>\n",
       "      <td>0.258277</td>\n",
       "      <td>3.390098</td>\n",
       "      <td>10</td>\n",
       "      <td>False</td>\n",
       "    </tr>\n",
       "    <tr>\n",
       "      <th>7403</th>\n",
       "      <td>3.605138</td>\n",
       "      <td>0.05</td>\n",
       "      <td>0.135071</td>\n",
       "      <td>3.230564</td>\n",
       "      <td>11</td>\n",
       "      <td>True</td>\n",
       "    </tr>\n",
       "  </tbody>\n",
       "</table>\n",
       "<p>1000 rows × 6 columns</p>\n",
       "</div>"
      ],
      "text/plain": [
       "      duration  epsilon  nearestDistance  nearestOrientation  numLocations  \\\n",
       "6404  2.394024     0.05         0.213642            1.573864            10   \n",
       "6405  1.940717     0.05         0.235212            1.647495             9   \n",
       "6406  2.042513     0.05         0.083272            1.451146             9   \n",
       "6407  2.307400     0.05         0.162503            1.573864            11   \n",
       "6408  2.368114     0.05         0.247662            1.279340            10   \n",
       "...        ...      ...              ...                 ...           ...   \n",
       "7399  3.817997     0.05         0.162031            3.402369             9   \n",
       "7400  3.240618     0.05         0.123558            3.316466            10   \n",
       "7401  3.271571     0.05         0.138710            3.255107             9   \n",
       "7402  3.030342     0.05         0.258277            3.390098            10   \n",
       "7403  3.605138     0.05         0.135071            3.230564            11   \n",
       "\n",
       "      success  \n",
       "6404    False  \n",
       "6405    False  \n",
       "6406     True  \n",
       "6407     True  \n",
       "6408    False  \n",
       "...       ...  \n",
       "7399     True  \n",
       "7400     True  \n",
       "7401     True  \n",
       "7402    False  \n",
       "7403     True  \n",
       "\n",
       "[1000 rows x 6 columns]"
      ]
     },
     "execution_count": 17,
     "metadata": {},
     "output_type": "execute_result"
    }
   ],
   "source": [
    "df.tail(1000)"
   ]
  },
  {
   "cell_type": "code",
   "execution_count": 18,
   "metadata": {},
   "outputs": [],
   "source": [
    "gdf = df.groupby(\"epsilon\")"
   ]
  },
  {
   "cell_type": "code",
   "execution_count": 19,
   "metadata": {},
   "outputs": [
    {
     "data": {
      "text/plain": [
       "epsilon\n",
       "0.005    0.355754\n",
       "0.010    0.665316\n",
       "0.020    0.714749\n",
       "0.030    0.743922\n",
       "0.040    0.786872\n",
       "0.050    0.812804\n",
       "Name: success, dtype: float64"
      ]
     },
     "execution_count": 19,
     "metadata": {},
     "output_type": "execute_result"
    }
   ],
   "source": [
    "gdf[\"success\"].mean()"
   ]
  },
  {
   "cell_type": "code",
   "execution_count": 20,
   "metadata": {},
   "outputs": [
    {
     "data": {
      "text/plain": [
       "epsilon\n",
       "0.005    0.105945\n",
       "0.010    0.114311\n",
       "0.020    0.115280\n",
       "0.030    0.116334\n",
       "0.040    0.120292\n",
       "0.050    0.120850\n",
       "Name: nearestDistance, dtype: float64"
      ]
     },
     "execution_count": 20,
     "metadata": {},
     "output_type": "execute_result"
    }
   ],
   "source": [
    "# Aggregate by mean of nearestDistance, only for successful runs\n",
    "\n",
    "df_ = df[df[\"success\"]]\n",
    "gdf_ = df_.groupby(\"epsilon\")\n",
    "gdf_[\"nearestDistance\"].mean()\n"
   ]
  },
  {
   "cell_type": "code",
   "execution_count": 21,
   "metadata": {},
   "outputs": [
    {
     "data": {
      "text/plain": [
       "epsilon\n",
       "0.005    0.005454\n",
       "0.010    0.012208\n",
       "0.020    0.078905\n",
       "0.030    0.301651\n",
       "0.040    0.843627\n",
       "0.050    1.875658\n",
       "Name: duration, dtype: float64"
      ]
     },
     "execution_count": 21,
     "metadata": {},
     "output_type": "execute_result"
    }
   ],
   "source": [
    "gdf[\"duration\"].mean()"
   ]
  },
  {
   "cell_type": "code",
   "execution_count": null,
   "metadata": {},
   "outputs": [],
   "source": []
  },
  {
   "cell_type": "code",
   "execution_count": 22,
   "metadata": {},
   "outputs": [
    {
     "data": {
      "text/plain": [
       "epsilon\n",
       "0.005    2.965964\n",
       "0.010    4.794976\n",
       "0.020    6.208266\n",
       "0.030    7.334684\n",
       "0.040    8.589141\n",
       "0.050    9.303079\n",
       "Name: numLocations, dtype: float64"
      ]
     },
     "execution_count": 22,
     "metadata": {},
     "output_type": "execute_result"
    }
   ],
   "source": [
    "gdf[\"numLocations\"].mean()"
   ]
  },
  {
   "cell_type": "code",
   "execution_count": null,
   "metadata": {},
   "outputs": [],
   "source": []
  },
  {
   "cell_type": "code",
   "execution_count": null,
   "metadata": {},
   "outputs": [],
   "source": []
  }
 ],
 "metadata": {
  "kernelspec": {
   "display_name": "Python 3",
   "language": "python",
   "name": "python3"
  },
  "language_info": {
   "codemirror_mode": {
    "name": "ipython",
    "version": 3
   },
   "file_extension": ".py",
   "mimetype": "text/x-python",
   "name": "python",
   "nbconvert_exporter": "python",
   "pygments_lexer": "ipython3",
   "version": "3.10.8"
  }
 },
 "nbformat": 4,
 "nbformat_minor": 2
}
