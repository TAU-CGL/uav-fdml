{
 "cells": [
  {
   "cell_type": "code",
   "execution_count": 2,
   "metadata": {},
   "outputs": [],
   "source": [
    "import sqlite3\n",
    "\n",
    "import numpy as np \n",
    "import pandas as pd\n",
    "import matplotlib.pyplot as plt"
   ]
  },
  {
   "cell_type": "code",
   "execution_count": 3,
   "metadata": {},
   "outputs": [],
   "source": [
    "conn = sqlite3.connect(\"../../results/results.db\")\n",
    "df = pd.read_sql(\"SELECT * FROM results\", conn)"
   ]
  },
  {
   "cell_type": "code",
   "execution_count": 4,
   "metadata": {},
   "outputs": [
    {
     "data": {
      "text/html": [
       "<div>\n",
       "<style scoped>\n",
       "    .dataframe tbody tr th:only-of-type {\n",
       "        vertical-align: middle;\n",
       "    }\n",
       "\n",
       "    .dataframe tbody tr th {\n",
       "        vertical-align: top;\n",
       "    }\n",
       "\n",
       "    .dataframe thead th {\n",
       "        text-align: right;\n",
       "    }\n",
       "</style>\n",
       "<table border=\"1\" class=\"dataframe\">\n",
       "  <thead>\n",
       "    <tr style=\"text-align: right;\">\n",
       "      <th></th>\n",
       "      <th>duration</th>\n",
       "      <th>epsilon</th>\n",
       "      <th>nearestDistance</th>\n",
       "      <th>nearestOrientation</th>\n",
       "      <th>numLocations</th>\n",
       "    </tr>\n",
       "  </thead>\n",
       "  <tbody>\n",
       "    <tr>\n",
       "      <th>0</th>\n",
       "      <td>0.008038</td>\n",
       "      <td>0.001</td>\n",
       "      <td>-1.000000</td>\n",
       "      <td>-1.000000</td>\n",
       "      <td>0</td>\n",
       "    </tr>\n",
       "    <tr>\n",
       "      <th>1</th>\n",
       "      <td>0.005953</td>\n",
       "      <td>0.001</td>\n",
       "      <td>-1.000000</td>\n",
       "      <td>-1.000000</td>\n",
       "      <td>0</td>\n",
       "    </tr>\n",
       "    <tr>\n",
       "      <th>2</th>\n",
       "      <td>0.005542</td>\n",
       "      <td>0.001</td>\n",
       "      <td>1.055807</td>\n",
       "      <td>0.475534</td>\n",
       "      <td>2</td>\n",
       "    </tr>\n",
       "    <tr>\n",
       "      <th>3</th>\n",
       "      <td>0.006166</td>\n",
       "      <td>0.001</td>\n",
       "      <td>1.056761</td>\n",
       "      <td>0.481670</td>\n",
       "      <td>2</td>\n",
       "    </tr>\n",
       "    <tr>\n",
       "      <th>4</th>\n",
       "      <td>0.008091</td>\n",
       "      <td>0.001</td>\n",
       "      <td>1.060662</td>\n",
       "      <td>0.481670</td>\n",
       "      <td>2</td>\n",
       "    </tr>\n",
       "  </tbody>\n",
       "</table>\n",
       "</div>"
      ],
      "text/plain": [
       "   duration  epsilon  nearestDistance  nearestOrientation  numLocations\n",
       "0  0.008038    0.001        -1.000000           -1.000000             0\n",
       "1  0.005953    0.001        -1.000000           -1.000000             0\n",
       "2  0.005542    0.001         1.055807            0.475534             2\n",
       "3  0.006166    0.001         1.056761            0.481670             2\n",
       "4  0.008091    0.001         1.060662            0.481670             2"
      ]
     },
     "execution_count": 4,
     "metadata": {},
     "output_type": "execute_result"
    }
   ],
   "source": [
    "df.head()"
   ]
  },
  {
   "cell_type": "code",
   "execution_count": 6,
   "metadata": {},
   "outputs": [],
   "source": [
    "df[\"success\"] = (df[\"nearestDistance\"] <= 0.15) & (df[\"nearestDistance\"] >= 0.0)"
   ]
  },
  {
   "cell_type": "code",
   "execution_count": 7,
   "metadata": {},
   "outputs": [],
   "source": [
    "gdf = df.groupby(\"epsilon\")"
   ]
  },
  {
   "cell_type": "code",
   "execution_count": 8,
   "metadata": {},
   "outputs": [
    {
     "data": {
      "text/plain": [
       "epsilon\n",
       "0.001    0.415452\n",
       "0.005    0.518950\n",
       "0.010    0.567055\n",
       "0.015    0.604956\n",
       "0.020    0.631924\n",
       "0.025    0.623178\n",
       "0.030    0.655977\n",
       "Name: success, dtype: float64"
      ]
     },
     "execution_count": 8,
     "metadata": {},
     "output_type": "execute_result"
    }
   ],
   "source": [
    "gdf[\"success\"].mean()"
   ]
  },
  {
   "cell_type": "code",
   "execution_count": 12,
   "metadata": {},
   "outputs": [
    {
     "data": {
      "text/plain": [
       "epsilon\n",
       "0.001    0.075840\n",
       "0.005    0.074097\n",
       "0.010    0.074255\n",
       "0.015    0.074874\n",
       "0.020    0.079218\n",
       "0.025    0.080120\n",
       "0.030    0.082144\n",
       "Name: nearestDistance, dtype: float64"
      ]
     },
     "execution_count": 12,
     "metadata": {},
     "output_type": "execute_result"
    }
   ],
   "source": [
    "# Aggregate by mean of nearestDistance, only for successful runs\n",
    "\n",
    "df_ = df[df[\"success\"]]\n",
    "gdf_ = df_.groupby(\"epsilon\")\n",
    "gdf_[\"nearestDistance\"].mean()\n"
   ]
  },
  {
   "cell_type": "code",
   "execution_count": 10,
   "metadata": {},
   "outputs": [
    {
     "data": {
      "text/plain": [
       "epsilon\n",
       "0.001    0.005128\n",
       "0.005    0.006119\n",
       "0.010    0.012366\n",
       "0.015    0.025623\n",
       "0.020    0.064688\n",
       "0.025    0.106588\n",
       "0.030    0.315433\n",
       "Name: duration, dtype: float64"
      ]
     },
     "execution_count": 10,
     "metadata": {},
     "output_type": "execute_result"
    }
   ],
   "source": [
    "gdf[\"duration\"].mean()"
   ]
  },
  {
   "cell_type": "code",
   "execution_count": null,
   "metadata": {},
   "outputs": [],
   "source": []
  },
  {
   "cell_type": "code",
   "execution_count": 11,
   "metadata": {},
   "outputs": [
    {
     "data": {
      "text/plain": [
       "epsilon\n",
       "0.001    2.742711\n",
       "0.005    4.262391\n",
       "0.010    5.740525\n",
       "0.015    6.747813\n",
       "0.020    7.685860\n",
       "0.025    8.505831\n",
       "0.030    9.387026\n",
       "Name: numLocations, dtype: float64"
      ]
     },
     "execution_count": 11,
     "metadata": {},
     "output_type": "execute_result"
    }
   ],
   "source": [
    "gdf[\"numLocations\"].mean()"
   ]
  },
  {
   "cell_type": "code",
   "execution_count": null,
   "metadata": {},
   "outputs": [],
   "source": []
  }
 ],
 "metadata": {
  "kernelspec": {
   "display_name": "Python 3",
   "language": "python",
   "name": "python3"
  },
  "language_info": {
   "codemirror_mode": {
    "name": "ipython",
    "version": 3
   },
   "file_extension": ".py",
   "mimetype": "text/x-python",
   "name": "python",
   "nbconvert_exporter": "python",
   "pygments_lexer": "ipython3",
   "version": "3.10.8"
  }
 },
 "nbformat": 4,
 "nbformat_minor": 2
}
