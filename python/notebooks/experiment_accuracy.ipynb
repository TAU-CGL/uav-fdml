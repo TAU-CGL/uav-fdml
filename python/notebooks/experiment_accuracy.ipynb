{
 "cells": [
  {
   "cell_type": "code",
   "execution_count": 79,
   "metadata": {},
   "outputs": [],
   "source": [
    "import sqlite3\n",
    "\n",
    "import numpy as np \n",
    "import pandas as pd\n",
    "import matplotlib.pyplot as plt"
   ]
  },
  {
   "cell_type": "code",
   "execution_count": 80,
   "metadata": {},
   "outputs": [],
   "source": [
    "conn = sqlite3.connect(\"../../results/results.db\")\n",
    "df = pd.read_sql(\"SELECT * FROM results\", conn)"
   ]
  },
  {
   "cell_type": "code",
   "execution_count": 81,
   "metadata": {},
   "outputs": [],
   "source": [
    "df = df.dropna()"
   ]
  },
  {
   "cell_type": "code",
   "execution_count": 89,
   "metadata": {},
   "outputs": [],
   "source": [
    "df[\"success\"] = (df[\"nearestDistance\"] <= 0.2) & (df[\"nearestDistance\"] >= 0.0)"
   ]
  },
  {
   "cell_type": "code",
   "execution_count": 90,
   "metadata": {},
   "outputs": [
    {
     "data": {
      "text/html": [
       "<div>\n",
       "<style scoped>\n",
       "    .dataframe tbody tr th:only-of-type {\n",
       "        vertical-align: middle;\n",
       "    }\n",
       "\n",
       "    .dataframe tbody tr th {\n",
       "        vertical-align: top;\n",
       "    }\n",
       "\n",
       "    .dataframe thead th {\n",
       "        text-align: right;\n",
       "    }\n",
       "</style>\n",
       "<table border=\"1\" class=\"dataframe\">\n",
       "  <thead>\n",
       "    <tr style=\"text-align: right;\">\n",
       "      <th></th>\n",
       "      <th>duration</th>\n",
       "      <th>epsilon</th>\n",
       "      <th>nearestDistance</th>\n",
       "      <th>nearestOrientation</th>\n",
       "      <th>numLocations</th>\n",
       "      <th>success</th>\n",
       "    </tr>\n",
       "  </thead>\n",
       "  <tbody>\n",
       "    <tr>\n",
       "      <th>2702</th>\n",
       "      <td>0.257119</td>\n",
       "      <td>0.015</td>\n",
       "      <td>0.080687</td>\n",
       "      <td>1.475690</td>\n",
       "      <td>9</td>\n",
       "      <td>True</td>\n",
       "    </tr>\n",
       "    <tr>\n",
       "      <th>2703</th>\n",
       "      <td>0.241151</td>\n",
       "      <td>0.015</td>\n",
       "      <td>0.049257</td>\n",
       "      <td>1.537049</td>\n",
       "      <td>8</td>\n",
       "      <td>True</td>\n",
       "    </tr>\n",
       "    <tr>\n",
       "      <th>2704</th>\n",
       "      <td>0.286328</td>\n",
       "      <td>0.015</td>\n",
       "      <td>0.048042</td>\n",
       "      <td>1.500233</td>\n",
       "      <td>8</td>\n",
       "      <td>True</td>\n",
       "    </tr>\n",
       "    <tr>\n",
       "      <th>2705</th>\n",
       "      <td>0.251517</td>\n",
       "      <td>0.015</td>\n",
       "      <td>0.107773</td>\n",
       "      <td>1.598408</td>\n",
       "      <td>8</td>\n",
       "      <td>True</td>\n",
       "    </tr>\n",
       "    <tr>\n",
       "      <th>2706</th>\n",
       "      <td>0.268860</td>\n",
       "      <td>0.015</td>\n",
       "      <td>0.022858</td>\n",
       "      <td>1.537049</td>\n",
       "      <td>8</td>\n",
       "      <td>True</td>\n",
       "    </tr>\n",
       "    <tr>\n",
       "      <th>...</th>\n",
       "      <td>...</td>\n",
       "      <td>...</td>\n",
       "      <td>...</td>\n",
       "      <td>...</td>\n",
       "      <td>...</td>\n",
       "      <td>...</td>\n",
       "    </tr>\n",
       "    <tr>\n",
       "      <th>3697</th>\n",
       "      <td>0.405431</td>\n",
       "      <td>0.015</td>\n",
       "      <td>0.068943</td>\n",
       "      <td>3.046486</td>\n",
       "      <td>8</td>\n",
       "      <td>True</td>\n",
       "    </tr>\n",
       "    <tr>\n",
       "      <th>3698</th>\n",
       "      <td>0.389557</td>\n",
       "      <td>0.015</td>\n",
       "      <td>0.088268</td>\n",
       "      <td>2.874680</td>\n",
       "      <td>8</td>\n",
       "      <td>True</td>\n",
       "    </tr>\n",
       "    <tr>\n",
       "      <th>3699</th>\n",
       "      <td>0.369949</td>\n",
       "      <td>0.015</td>\n",
       "      <td>0.083697</td>\n",
       "      <td>2.886952</td>\n",
       "      <td>8</td>\n",
       "      <td>True</td>\n",
       "    </tr>\n",
       "    <tr>\n",
       "      <th>3700</th>\n",
       "      <td>0.392673</td>\n",
       "      <td>0.015</td>\n",
       "      <td>0.096887</td>\n",
       "      <td>2.899224</td>\n",
       "      <td>7</td>\n",
       "      <td>True</td>\n",
       "    </tr>\n",
       "    <tr>\n",
       "      <th>3701</th>\n",
       "      <td>0.371437</td>\n",
       "      <td>0.015</td>\n",
       "      <td>0.062697</td>\n",
       "      <td>2.985127</td>\n",
       "      <td>7</td>\n",
       "      <td>True</td>\n",
       "    </tr>\n",
       "  </tbody>\n",
       "</table>\n",
       "<p>1000 rows × 6 columns</p>\n",
       "</div>"
      ],
      "text/plain": [
       "      duration  epsilon  nearestDistance  nearestOrientation  numLocations  \\\n",
       "2702  0.257119    0.015         0.080687            1.475690             9   \n",
       "2703  0.241151    0.015         0.049257            1.537049             8   \n",
       "2704  0.286328    0.015         0.048042            1.500233             8   \n",
       "2705  0.251517    0.015         0.107773            1.598408             8   \n",
       "2706  0.268860    0.015         0.022858            1.537049             8   \n",
       "...        ...      ...              ...                 ...           ...   \n",
       "3697  0.405431    0.015         0.068943            3.046486             8   \n",
       "3698  0.389557    0.015         0.088268            2.874680             8   \n",
       "3699  0.369949    0.015         0.083697            2.886952             8   \n",
       "3700  0.392673    0.015         0.096887            2.899224             7   \n",
       "3701  0.371437    0.015         0.062697            2.985127             7   \n",
       "\n",
       "      success  \n",
       "2702     True  \n",
       "2703     True  \n",
       "2704     True  \n",
       "2705     True  \n",
       "2706     True  \n",
       "...       ...  \n",
       "3697     True  \n",
       "3698     True  \n",
       "3699     True  \n",
       "3700     True  \n",
       "3701     True  \n",
       "\n",
       "[1000 rows x 6 columns]"
      ]
     },
     "execution_count": 90,
     "metadata": {},
     "output_type": "execute_result"
    }
   ],
   "source": [
    "df.tail(1000)"
   ]
  },
  {
   "cell_type": "code",
   "execution_count": 91,
   "metadata": {},
   "outputs": [],
   "source": [
    "gdf = df.groupby(\"epsilon\")"
   ]
  },
  {
   "cell_type": "code",
   "execution_count": 92,
   "metadata": {},
   "outputs": [
    {
     "data": {
      "text/plain": [
       "epsilon\n",
       "0.005    0.736629\n",
       "0.010    0.738250\n",
       "0.015    0.752836\n",
       "Name: success, dtype: float64"
      ]
     },
     "execution_count": 92,
     "metadata": {},
     "output_type": "execute_result"
    }
   ],
   "source": [
    "gdf[\"success\"].mean()"
   ]
  },
  {
   "cell_type": "code",
   "execution_count": 93,
   "metadata": {},
   "outputs": [
    {
     "data": {
      "text/plain": [
       "epsilon\n",
       "0.005    0.093518\n",
       "0.010    0.095786\n",
       "0.015    0.099705\n",
       "Name: nearestDistance, dtype: float64"
      ]
     },
     "execution_count": 93,
     "metadata": {},
     "output_type": "execute_result"
    }
   ],
   "source": [
    "# Aggregate by mean of nearestDistance, only for successful runs\n",
    "\n",
    "df_ = df[df[\"success\"]]\n",
    "gdf_ = df_.groupby(\"epsilon\")\n",
    "gdf_[\"nearestDistance\"].mean()\n"
   ]
  },
  {
   "cell_type": "code",
   "execution_count": 94,
   "metadata": {},
   "outputs": [
    {
     "data": {
      "text/plain": [
       "epsilon\n",
       "0.005    0.039315\n",
       "0.010    0.151864\n",
       "0.015    0.317504\n",
       "Name: duration, dtype: float64"
      ]
     },
     "execution_count": 94,
     "metadata": {},
     "output_type": "execute_result"
    }
   ],
   "source": [
    "gdf[\"duration\"].mean()"
   ]
  },
  {
   "cell_type": "code",
   "execution_count": null,
   "metadata": {},
   "outputs": [],
   "source": []
  },
  {
   "cell_type": "code",
   "execution_count": 95,
   "metadata": {},
   "outputs": [
    {
     "data": {
      "text/plain": [
       "epsilon\n",
       "0.005    6.283630\n",
       "0.010    7.042950\n",
       "0.015    7.735008\n",
       "Name: numLocations, dtype: float64"
      ]
     },
     "execution_count": 95,
     "metadata": {},
     "output_type": "execute_result"
    }
   ],
   "source": [
    "gdf[\"numLocations\"].mean()"
   ]
  },
  {
   "cell_type": "code",
   "execution_count": null,
   "metadata": {},
   "outputs": [],
   "source": []
  },
  {
   "cell_type": "code",
   "execution_count": null,
   "metadata": {},
   "outputs": [],
   "source": []
  }
 ],
 "metadata": {
  "kernelspec": {
   "display_name": "Python 3",
   "language": "python",
   "name": "python3"
  },
  "language_info": {
   "codemirror_mode": {
    "name": "ipython",
    "version": 3
   },
   "file_extension": ".py",
   "mimetype": "text/x-python",
   "name": "python",
   "nbconvert_exporter": "python",
   "pygments_lexer": "ipython3",
   "version": "3.10.8"
  }
 },
 "nbformat": 4,
 "nbformat_minor": 2
}
