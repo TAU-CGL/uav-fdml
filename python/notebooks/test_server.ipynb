{
 "cells": [
  {
   "cell_type": "code",
   "execution_count": 1,
   "metadata": {},
   "outputs": [],
   "source": [
    "import json\n",
    "import requests"
   ]
  },
  {
   "cell_type": "code",
   "execution_count": 4,
   "metadata": {},
   "outputs": [],
   "source": [
    "URL = \"http://<YOUR_HOSTNAME>:9989\""
   ]
  },
  {
   "cell_type": "code",
   "execution_count": 5,
   "metadata": {},
   "outputs": [],
   "source": [
    "with open(\"../../resources/fdml/trajectories/exp_mr_lh_363.json\", \"r\") as fp:\n",
    "    measurements = json.load(fp)"
   ]
  },
  {
   "cell_type": "code",
   "execution_count": 12,
   "metadata": {},
   "outputs": [],
   "source": [
    "idx = 0\n",
    "for measurement in measurements:\n",
    "    idx += 1\n",
    "    if idx % 5 != 0:\n",
    "        continue\n",
    "    # print(f\"Sendind measurement...:\\t{measu\n",
    "    # rement}\")\n",
    "    data = {\"measurement\": measurement}\n",
    "    response = requests.post(f\"{URL}/post_measurement\", json=data)\n",
    "    # print(response.text)\n",
    "    response = requests.get(f\"{URL}/get_recent_measurement\")\n",
    "    # print(response.text)"
   ]
  },
  {
   "cell_type": "code",
   "execution_count": null,
   "metadata": {},
   "outputs": [],
   "source": []
  }
 ],
 "metadata": {
  "kernelspec": {
   "display_name": "Python 3",
   "language": "python",
   "name": "python3"
  },
  "language_info": {
   "codemirror_mode": {
    "name": "ipython",
    "version": 3
   },
   "file_extension": ".py",
   "mimetype": "text/x-python",
   "name": "python",
   "nbconvert_exporter": "python",
   "pygments_lexer": "ipython3",
   "version": "3.10.8"
  }
 },
 "nbformat": 4,
 "nbformat_minor": 2
}
